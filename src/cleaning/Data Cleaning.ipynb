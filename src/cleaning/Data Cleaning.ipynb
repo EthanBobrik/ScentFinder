{
 "cells": [
  {
   "metadata": {},
   "cell_type": "markdown",
   "source": "",
   "id": "8358c7724110902a"
  },
  {
   "metadata": {
    "ExecuteTime": {
     "end_time": "2025-07-18T04:51:17.499185Z",
     "start_time": "2025-07-18T04:51:17.495057Z"
    }
   },
   "cell_type": "code",
   "source": "import pandas as pd",
   "id": "69f1a1406ae9a583",
   "outputs": [
    {
     "data": {
      "text/plain": [
       "'/Users/ethanbobrik/PycharmProjects/ScentFinder/src/cleaning'"
      ]
     },
     "execution_count": 5,
     "metadata": {},
     "output_type": "execute_result"
    }
   ],
   "execution_count": 5
  },
  {
   "metadata": {
    "ExecuteTime": {
     "end_time": "2025-07-18T04:54:04.978994Z",
     "start_time": "2025-07-18T04:54:04.890834Z"
    }
   },
   "cell_type": "code",
   "source": "df = pd.read_csv('../../data/processed/fra_cleaned.csv', sep=';', encoding='ISO-8859-1')",
   "id": "b27cb280e41620b3",
   "outputs": [],
   "execution_count": 18
  },
  {
   "metadata": {},
   "cell_type": "code",
   "outputs": [],
   "execution_count": null,
   "source": "",
   "id": "461147310f256e22"
  }
 ],
 "metadata": {
  "kernelspec": {
   "display_name": "Python 3",
   "language": "python",
   "name": "python3"
  },
  "language_info": {
   "codemirror_mode": {
    "name": "ipython",
    "version": 2
   },
   "file_extension": ".py",
   "mimetype": "text/x-python",
   "name": "python",
   "nbconvert_exporter": "python",
   "pygments_lexer": "ipython2",
   "version": "2.7.6"
  }
 },
 "nbformat": 4,
 "nbformat_minor": 5
}
